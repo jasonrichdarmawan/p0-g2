{
 "cells": [
  {
   "cell_type": "code",
   "execution_count": 2,
   "metadata": {},
   "outputs": [],
   "source": [
    "import pandas as pd\n",
    "import numpy as np\n",
    "from scipy import stats\n",
    "import matplotlib.pyplot as plt"
   ]
  },
  {
   "cell_type": "code",
   "execution_count": 3,
   "metadata": {},
   "outputs": [],
   "source": [
    "pg_df = pd.DataFrame({'report_date':['2021-01-02','','2021-01-01', '2021-03-04'],\n",
    "                      'dropoff_site': ['MRF', 'MRF', 'MRF','Organics'],\n",
    "                      'load_weight': [1,3,2,6],\n",
    "                      'load_type': ['Cheese', 'Mac', 'Green', 'Wholesale']})"
   ]
  },
  {
   "cell_type": "code",
   "execution_count": 4,
   "metadata": {},
   "outputs": [
    {
     "data": {
      "text/html": [
       "<div>\n",
       "<style scoped>\n",
       "    .dataframe tbody tr th:only-of-type {\n",
       "        vertical-align: middle;\n",
       "    }\n",
       "\n",
       "    .dataframe tbody tr th {\n",
       "        vertical-align: top;\n",
       "    }\n",
       "\n",
       "    .dataframe thead tr th {\n",
       "        text-align: left;\n",
       "    }\n",
       "\n",
       "    .dataframe thead tr:last-of-type th {\n",
       "        text-align: right;\n",
       "    }\n",
       "</style>\n",
       "<table border=\"1\" class=\"dataframe\">\n",
       "  <thead>\n",
       "    <tr>\n",
       "      <th></th>\n",
       "      <th colspan=\"3\" halign=\"left\">load_weight</th>\n",
       "    </tr>\n",
       "    <tr>\n",
       "      <th></th>\n",
       "      <th>mean</th>\n",
       "      <th>median</th>\n",
       "      <th>mode</th>\n",
       "    </tr>\n",
       "    <tr>\n",
       "      <th>dropoff_site</th>\n",
       "      <th></th>\n",
       "      <th></th>\n",
       "      <th></th>\n",
       "    </tr>\n",
       "  </thead>\n",
       "  <tbody>\n",
       "    <tr>\n",
       "      <th>MRF</th>\n",
       "      <td>2.0</td>\n",
       "      <td>2.0</td>\n",
       "      <td>[1, 2, 3]</td>\n",
       "    </tr>\n",
       "  </tbody>\n",
       "</table>\n",
       "</div>"
      ],
      "text/plain": [
       "             load_weight                  \n",
       "                    mean median       mode\n",
       "dropoff_site                              \n",
       "MRF                  2.0    2.0  [1, 2, 3]"
      ]
     },
     "execution_count": 4,
     "metadata": {},
     "output_type": "execute_result"
    }
   ],
   "source": [
    "# mean, median, mode calculate only rows of each group.\n",
    "pg_df.loc[pg_df['dropoff_site'] == 'MRF',['dropoff_site','load_weight']].groupby(['dropoff_site']).agg([\"mean\", \"median\", (\"mode\", lambda x: x.mode().tolist())])"
   ]
  },
  {
   "cell_type": "code",
   "execution_count": 5,
   "metadata": {},
   "outputs": [
    {
     "data": {
      "text/html": [
       "<div>\n",
       "<style scoped>\n",
       "    .dataframe tbody tr th:only-of-type {\n",
       "        vertical-align: middle;\n",
       "    }\n",
       "\n",
       "    .dataframe tbody tr th {\n",
       "        vertical-align: top;\n",
       "    }\n",
       "\n",
       "    .dataframe thead th {\n",
       "        text-align: right;\n",
       "    }\n",
       "</style>\n",
       "<table border=\"1\" class=\"dataframe\">\n",
       "  <thead>\n",
       "    <tr style=\"text-align: right;\">\n",
       "      <th></th>\n",
       "      <th>load_weight</th>\n",
       "    </tr>\n",
       "    <tr>\n",
       "      <th>report_date</th>\n",
       "      <th></th>\n",
       "    </tr>\n",
       "  </thead>\n",
       "  <tbody>\n",
       "    <tr>\n",
       "      <th></th>\n",
       "      <td>3</td>\n",
       "    </tr>\n",
       "    <tr>\n",
       "      <th>2021-01-01</th>\n",
       "      <td>2</td>\n",
       "    </tr>\n",
       "    <tr>\n",
       "      <th>2021-01-02</th>\n",
       "      <td>1</td>\n",
       "    </tr>\n",
       "    <tr>\n",
       "      <th>2021-03-04</th>\n",
       "      <td>6</td>\n",
       "    </tr>\n",
       "  </tbody>\n",
       "</table>\n",
       "</div>"
      ],
      "text/plain": [
       "             load_weight\n",
       "report_date             \n",
       "                       3\n",
       "2021-01-01             2\n",
       "2021-01-02             1\n",
       "2021-03-04             6"
      ]
     },
     "execution_count": 5,
     "metadata": {},
     "output_type": "execute_result"
    }
   ],
   "source": [
    "# groupby auto sort the column.\n",
    "pg_df[['report_date','load_weight']].groupby(['report_date']).sum()"
   ]
  },
  {
   "cell_type": "code",
   "execution_count": 6,
   "metadata": {},
   "outputs": [
    {
     "data": {
      "text/plain": [
       "0    1\n",
       "1    3\n",
       "2    2\n",
       "Name: load_weight, dtype: int64"
      ]
     },
     "execution_count": 6,
     "metadata": {},
     "output_type": "execute_result"
    }
   ],
   "source": [
    "pg_df.loc[pg_df['dropoff_site'] == 'MRF','load_weight']"
   ]
  },
  {
   "cell_type": "code",
   "execution_count": 7,
   "metadata": {},
   "outputs": [
    {
     "data": {
      "text/plain": [
       "0.25    1.5\n",
       "0.50    2.0\n",
       "0.75    2.5\n",
       "Name: load_weight, dtype: float64"
      ]
     },
     "execution_count": 7,
     "metadata": {},
     "output_type": "execute_result"
    }
   ],
   "source": [
    "# What is quantile?\n",
    "pg_df.loc[pg_df['dropoff_site'] == 'MRF','load_weight'].quantile([.25,.50,.75])"
   ]
  },
  {
   "cell_type": "code",
   "execution_count": 8,
   "metadata": {},
   "outputs": [
    {
     "data": {
      "text/html": [
       "<div>\n",
       "<style scoped>\n",
       "    .dataframe tbody tr th:only-of-type {\n",
       "        vertical-align: middle;\n",
       "    }\n",
       "\n",
       "    .dataframe tbody tr th {\n",
       "        vertical-align: top;\n",
       "    }\n",
       "\n",
       "    .dataframe thead th {\n",
       "        text-align: right;\n",
       "    }\n",
       "</style>\n",
       "<table border=\"1\" class=\"dataframe\">\n",
       "  <thead>\n",
       "    <tr style=\"text-align: right;\">\n",
       "      <th></th>\n",
       "      <th>report_date</th>\n",
       "      <th>dropoff_site</th>\n",
       "      <th>load_weight</th>\n",
       "      <th>load_type</th>\n",
       "    </tr>\n",
       "  </thead>\n",
       "  <tbody>\n",
       "    <tr>\n",
       "      <th>0</th>\n",
       "      <td>2021-01-02</td>\n",
       "      <td>MRF</td>\n",
       "      <td>1</td>\n",
       "      <td>Cheese</td>\n",
       "    </tr>\n",
       "    <tr>\n",
       "      <th>1</th>\n",
       "      <td></td>\n",
       "      <td>MRF</td>\n",
       "      <td>3</td>\n",
       "      <td>Mac</td>\n",
       "    </tr>\n",
       "    <tr>\n",
       "      <th>2</th>\n",
       "      <td>2021-01-01</td>\n",
       "      <td>MRF</td>\n",
       "      <td>2</td>\n",
       "      <td>Green</td>\n",
       "    </tr>\n",
       "    <tr>\n",
       "      <th>3</th>\n",
       "      <td>2021-03-04</td>\n",
       "      <td>Organics</td>\n",
       "      <td>6</td>\n",
       "      <td>Wholesale</td>\n",
       "    </tr>\n",
       "  </tbody>\n",
       "</table>\n",
       "</div>"
      ],
      "text/plain": [
       "  report_date dropoff_site  load_weight  load_type\n",
       "0  2021-01-02          MRF            1     Cheese\n",
       "1                      MRF            3        Mac\n",
       "2  2021-01-01          MRF            2      Green\n",
       "3  2021-03-04     Organics            6  Wholesale"
      ]
     },
     "execution_count": 8,
     "metadata": {},
     "output_type": "execute_result"
    }
   ],
   "source": [
    "# drop row with specific condition\n",
    "pg_df.drop(pg_df.loc[(pg_df['dropoff_site'] == 'MRF') \n",
    "                     & (pg_df['load_type'] == 'Mac') \n",
    "                     & ((pg_df['load_weight'] > 3) | (pg_df['load_weight'] < 2))\n",
    "                    ].index)"
   ]
  },
  {
   "cell_type": "code",
   "execution_count": 9,
   "metadata": {},
   "outputs": [
    {
     "name": "stdout",
     "output_type": "stream",
     "text": [
      "skewed\n"
     ]
    }
   ],
   "source": [
    "# conditional\n",
    "x = -0.6\n",
    "\n",
    "if (x > 0.5) | (x < -0.5):\n",
    "    print(\"skewed\")"
   ]
  },
  {
   "cell_type": "code",
   "execution_count": 10,
   "metadata": {},
   "outputs": [
    {
     "name": "stdout",
     "output_type": "stream",
     "text": [
      "IQR\n",
      "ok\n"
     ]
    },
    {
     "data": {
      "text/plain": [
       "(10, 10)"
      ]
     },
     "execution_count": 10,
     "metadata": {},
     "output_type": "execute_result"
    }
   ],
   "source": [
    "from enum import Enum\n",
    "from typing import Literal\n",
    "\n",
    "class STRATEGY(Enum):\n",
    "    STANDARD_DEVIATION = 0\n",
    "    IQR = 1\n",
    "\n",
    "def getLowerUpperLimit(dropoff_site: str, load_type: str, strategy: STRATEGY) -> tuple[float, float]:\n",
    "    if (strategy == STRATEGY.IQR):\n",
    "        print(\"IQR\")\n",
    "    else: ...\n",
    "    print(\"ok\")\n",
    "    return 10, 10\n",
    "\n",
    "lower_limit, upper_limit = getLowerUpperLimit('MRF', 'Organics', STRATEGY.IQR)\n",
    "lower_limit, upper_limit"
   ]
  },
  {
   "cell_type": "code",
   "execution_count": 11,
   "metadata": {},
   "outputs": [
    {
     "data": {
      "text/plain": [
       "0   -0.93522\n",
       "dtype: float64"
      ]
     },
     "execution_count": 11,
     "metadata": {},
     "output_type": "execute_result"
    }
   ],
   "source": [
    "pd.DataFrame([1,4,3,np.nan]).skew()"
   ]
  },
  {
   "cell_type": "markdown",
   "metadata": {},
   "source": [
    "# confidence interval"
   ]
  },
  {
   "cell_type": "code",
   "execution_count": 12,
   "metadata": {},
   "outputs": [],
   "source": [
    "pg_df = pd.DataFrame([10,9,9,10,11,9,8])"
   ]
  },
  {
   "cell_type": "code",
   "execution_count": 13,
   "metadata": {},
   "outputs": [
    {
     "data": {
      "text/html": [
       "<div>\n",
       "<style scoped>\n",
       "    .dataframe tbody tr th:only-of-type {\n",
       "        vertical-align: middle;\n",
       "    }\n",
       "\n",
       "    .dataframe tbody tr th {\n",
       "        vertical-align: top;\n",
       "    }\n",
       "\n",
       "    .dataframe thead th {\n",
       "        text-align: right;\n",
       "    }\n",
       "</style>\n",
       "<table border=\"1\" class=\"dataframe\">\n",
       "  <thead>\n",
       "    <tr style=\"text-align: right;\">\n",
       "      <th></th>\n",
       "      <th>0</th>\n",
       "    </tr>\n",
       "  </thead>\n",
       "  <tbody>\n",
       "    <tr>\n",
       "      <th>mean</th>\n",
       "      <td>9.428571</td>\n",
       "    </tr>\n",
       "    <tr>\n",
       "      <th>std</th>\n",
       "      <td>0.975900</td>\n",
       "    </tr>\n",
       "    <tr>\n",
       "      <th>var</th>\n",
       "      <td>0.952381</td>\n",
       "    </tr>\n",
       "  </tbody>\n",
       "</table>\n",
       "</div>"
      ],
      "text/plain": [
       "             0\n",
       "mean  9.428571\n",
       "std   0.975900\n",
       "var   0.952381"
      ]
     },
     "execution_count": 13,
     "metadata": {},
     "output_type": "execute_result"
    }
   ],
   "source": [
    "pg_df.agg(['mean', 'std', 'var'])"
   ]
  },
  {
   "cell_type": "markdown",
   "metadata": {},
   "source": [
    "H0: μ <= 9.0\n",
    "\n",
    "H1: μ > 9.0\n",
    "\n",
    "Since our p-value is less than 0.05, so we can reject the null hypothesis and we can conclude that, the mean population is higher than 9.0"
   ]
  },
  {
   "cell_type": "code",
   "execution_count": 14,
   "metadata": {},
   "outputs": [
    {
     "data": {
      "text/plain": [
       "(1.1618950038622258, 0.14470161242339485)"
      ]
     },
     "execution_count": 14,
     "metadata": {},
     "output_type": "execute_result"
    }
   ],
   "source": [
    "statistic, pvalue = stats.ttest_1samp(a = pg_df[0], popmean=9.0, alternative=\"greater\")\n",
    "statistic, pvalue"
   ]
  },
  {
   "cell_type": "code",
   "execution_count": 15,
   "metadata": {},
   "outputs": [
    {
     "data": {
      "text/plain": [
       "Timedelta('1 days 00:30:00')"
      ]
     },
     "execution_count": 15,
     "metadata": {},
     "output_type": "execute_result"
    }
   ],
   "source": [
    "# 2021-01-05 11:00:00+00:00\n",
    "pg_df = pd.DataFrame({'load_time': ['2021-01-01 11:00:00+00:00','2021-01-02 11:00:00+00:00','2021-01-03 12:00:00+00:00']})\n",
    "\n",
    "pg_df['load_time'] = pd.to_datetime(pg_df['load_time'])\n",
    "\n",
    "pg_df['previous_load_time'] = pg_df['load_time'].shift()\n",
    "pg_df['between_load_time'] = pg_df['load_time'] - pg_df['previous_load_time']\n",
    "pg_df['between_load_time'].mean()"
   ]
  },
  {
   "cell_type": "code",
   "execution_count": 16,
   "metadata": {},
   "outputs": [
    {
     "name": "stdout",
     "output_type": "stream",
     "text": [
      "-122.75 174.25\n",
      "-36.125 62.875\n"
     ]
    }
   ],
   "source": [
    "pg_df = pd.Series([1,1,1,100])\n",
    "mean, std = pg_df.agg(['mean', 'std'])\n",
    "print(mean - 3 * std, mean + 3 * std)\n",
    "\n",
    "q1, q3 = pg_df.quantile([.25,.75])\n",
    "iqr = q3 - q1\n",
    "print(q1 - iqr * 1.5, q3 + iqr * 1.5)"
   ]
  },
  {
   "cell_type": "code",
   "execution_count": 108,
   "metadata": {},
   "outputs": [
    {
     "name": "stdout",
     "output_type": "stream",
     "text": [
      "whari ini: 1.00, wbesok: 1.33\n"
     ]
    }
   ],
   "source": [
    "pg_df = pd.DataFrame({'report_date': ['2021-01-01', '2021-01-02', '2021-01-03', '2021-01-04'],\n",
    "                      'load_weight': [2,3,4,1]})\n",
    "# w = f(t)\n",
    "# v = dw = f'(t)\n",
    "#     --\n",
    "#     dt\n",
    "y = pg_df.loc[:,['report_date', 'load_weight']].groupby('report_date').sum()\n",
    "\n",
    "y['cumulative_load_weight'] = y['load_weight'].cumsum()\n",
    "\n",
    "dx = [0]\n",
    "\n",
    "for i in range(1, len(pg_df.index)):\n",
    "    dx.append(dx[i-1] + i)\n",
    "    \n",
    "v = np.diff(y['cumulative_load_weight']) / np.diff(dx)\n",
    "\n",
    "w_besok = y.iloc[-1]['load_weight'] + v[-1] * 1\n",
    "print(\"whari ini: {0:,.2f}, wbesok: {1:,.2f}\".format(y.iloc[-1]['load_weight'], w_besok))"
   ]
  }
 ],
 "metadata": {
  "kernelspec": {
   "display_name": "Python 3.10.7 64-bit",
   "language": "python",
   "name": "python3"
  },
  "language_info": {
   "codemirror_mode": {
    "name": "ipython",
    "version": 3
   },
   "file_extension": ".py",
   "mimetype": "text/x-python",
   "name": "python",
   "nbconvert_exporter": "python",
   "pygments_lexer": "ipython3",
   "version": "3.10.7"
  },
  "orig_nbformat": 4,
  "vscode": {
   "interpreter": {
    "hash": "aee8b7b246df8f9039afb4144a1f6fd8d2ca17a180786b69acc140d282b71a49"
   }
  }
 },
 "nbformat": 4,
 "nbformat_minor": 2
}
