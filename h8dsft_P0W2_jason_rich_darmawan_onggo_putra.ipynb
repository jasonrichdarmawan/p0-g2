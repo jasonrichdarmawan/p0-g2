{
 "cells": [
  {
   "cell_type": "markdown",
   "metadata": {},
   "source": [
    "**Using this template**\n",
    "\n",
    "1. Change notebook title to assignment title you working on, eg. `Graded Challenge 1 or Milestone 1`\n",
    "2. Put your identity such as name and batch number below notebook title.\n",
    "3. Write your description before do any work. State your purpose of this assignment and what you are trying to achieve. \n",
    "4. Look at the rubric of this assignment and make sure you understand the criteria.\n",
    "5. Code your solution in the cell provided below the working area section.\n",
    "6. State your conlusions, findings, and any other relevant information in the cell provided below the conclusions sections.\n",
    "7. Save this notebook and rename it to assignment title you working on  eg. `Graded Challenge 1 or Milestone 1`\n",
    "8. Push your assignment before deadline.\n",
    "9. Good Luck!"
   ]
  },
  {
   "cell_type": "markdown",
   "metadata": {},
   "source": [
    "# Graded Challenge 2\n",
    "\n",
    "1. Name: Jason Rich Darmawan Onggo Putra\n",
    "2. Batch: 016 RMT"
   ]
  },
  {
   "cell_type": "markdown",
   "metadata": {},
   "source": [
    "## Description\n",
    "\n",
    "### Objective\n",
    "\n",
    "`Write your objective here`\n",
    "\n",
    "### Problem Statement\n",
    "\n",
    "`Write your problem statement here`"
   ]
  },
  {
   "cell_type": "markdown",
   "metadata": {},
   "source": [
    "## Working Area\n",
    "\n",
    "```txt\n",
    "Put your code, analysis, everything below this line\n",
    "\n",
    "Make sure to check everything the rubric requires before you submit\n",
    "```"
   ]
  },
  {
   "cell_type": "markdown",
   "metadata": {},
   "source": [
    "## Data Retrieve\n",
    "\n",
    "1. project: `bigquery-public-data`\n",
    "2. dataset: [austin_waste](https://console.cloud.google.com/bigquery?p=bigquery-public-data&d=samples&page=dataset&_ga=2.245085957.1471931019.1642739417-486643658.1638156099&project=lexical-period-361812&ws=!1m4!1m3!3m2!1sbigquery-public-data!2saustin_waste)\n",
    "3. table: [waste_and_diversion](https://console.cloud.google.com/bigquery?p=bigquery-public-data&d=samples&page=dataset&_ga=2.245085957.1471931019.1642739417-486643658.1638156099&project=lexical-period-361812&ws=!1m5!1m4!4m3!1sbigquery-public-data!2saustin_waste!3swaste_and_diversion)\n",
    "\n",
    "**The query**:\n",
    "```\n",
    "SELECT report_date, load_time, load_type, load_weight, dropoff_site \n",
    "FROM `bigquery-public-data.austin_waste.waste_and_diversion`\n",
    "WHERE report_date <= '2021-07-09';\n",
    "```"
   ]
  },
  {
   "cell_type": "markdown",
   "metadata": {},
   "source": [
    "## Import Library"
   ]
  },
  {
   "cell_type": "code",
   "execution_count": 1,
   "metadata": {},
   "outputs": [],
   "source": [
    "import pandas as pd"
   ]
  },
  {
   "cell_type": "markdown",
   "metadata": {},
   "source": [
    "## Data Loading"
   ]
  },
  {
   "cell_type": "code",
   "execution_count": 2,
   "metadata": {},
   "outputs": [],
   "source": [
    "df = pd.read_csv(\"./h8dsft_P0GC2_jason_rich_darmawan_onggo_putra.csv\")"
   ]
  },
  {
   "cell_type": "code",
   "execution_count": 3,
   "metadata": {},
   "outputs": [
    {
     "data": {
      "text/html": [
       "<div>\n",
       "<style scoped>\n",
       "    .dataframe tbody tr th:only-of-type {\n",
       "        vertical-align: middle;\n",
       "    }\n",
       "\n",
       "    .dataframe tbody tr th {\n",
       "        vertical-align: top;\n",
       "    }\n",
       "\n",
       "    .dataframe thead th {\n",
       "        text-align: right;\n",
       "    }\n",
       "</style>\n",
       "<table border=\"1\" class=\"dataframe\">\n",
       "  <thead>\n",
       "    <tr style=\"text-align: right;\">\n",
       "      <th></th>\n",
       "      <th>report_date</th>\n",
       "      <th>load_time</th>\n",
       "      <th>load_type</th>\n",
       "      <th>load_weight</th>\n",
       "      <th>dropoff_site</th>\n",
       "    </tr>\n",
       "  </thead>\n",
       "  <tbody>\n",
       "    <tr>\n",
       "      <th>0</th>\n",
       "      <td>2009-08-07</td>\n",
       "      <td>2009-08-07 11:51:00 UTC</td>\n",
       "      <td>RECYCLING - SINGLE STREAM</td>\n",
       "      <td>4400.0</td>\n",
       "      <td>MRF</td>\n",
       "    </tr>\n",
       "    <tr>\n",
       "      <th>1</th>\n",
       "      <td>2008-04-11</td>\n",
       "      <td>2008-04-11 12:31:00 UTC</td>\n",
       "      <td>RECYCLING - PAPER</td>\n",
       "      <td>1920.0</td>\n",
       "      <td>MRF</td>\n",
       "    </tr>\n",
       "    <tr>\n",
       "      <th>2</th>\n",
       "      <td>2009-01-16</td>\n",
       "      <td>2009-01-16 12:58:00 UTC</td>\n",
       "      <td>RECYCLING - SINGLE STREAM</td>\n",
       "      <td>4140.0</td>\n",
       "      <td>MRF</td>\n",
       "    </tr>\n",
       "    <tr>\n",
       "      <th>3</th>\n",
       "      <td>2009-07-10</td>\n",
       "      <td>2009-07-10 11:21:00 UTC</td>\n",
       "      <td>RECYCLING - SINGLE STREAM</td>\n",
       "      <td>4020.0</td>\n",
       "      <td>MRF</td>\n",
       "    </tr>\n",
       "    <tr>\n",
       "      <th>4</th>\n",
       "      <td>2006-02-03</td>\n",
       "      <td>2006-02-03 12:36:00 UTC</td>\n",
       "      <td>RECYCLING - COMINGLE</td>\n",
       "      <td>1700.0</td>\n",
       "      <td>MRF</td>\n",
       "    </tr>\n",
       "  </tbody>\n",
       "</table>\n",
       "</div>"
      ],
      "text/plain": [
       "  report_date                load_time                  load_type  \\\n",
       "0  2009-08-07  2009-08-07 11:51:00 UTC  RECYCLING - SINGLE STREAM   \n",
       "1  2008-04-11  2008-04-11 12:31:00 UTC          RECYCLING - PAPER   \n",
       "2  2009-01-16  2009-01-16 12:58:00 UTC  RECYCLING - SINGLE STREAM   \n",
       "3  2009-07-10  2009-07-10 11:21:00 UTC  RECYCLING - SINGLE STREAM   \n",
       "4  2006-02-03  2006-02-03 12:36:00 UTC       RECYCLING - COMINGLE   \n",
       "\n",
       "   load_weight dropoff_site  \n",
       "0       4400.0          MRF  \n",
       "1       1920.0          MRF  \n",
       "2       4140.0          MRF  \n",
       "3       4020.0          MRF  \n",
       "4       1700.0          MRF  "
      ]
     },
     "execution_count": 3,
     "metadata": {},
     "output_type": "execute_result"
    }
   ],
   "source": [
    "df.head()"
   ]
  },
  {
   "cell_type": "code",
   "execution_count": 4,
   "metadata": {},
   "outputs": [
    {
     "data": {
      "text/html": [
       "<div>\n",
       "<style scoped>\n",
       "    .dataframe tbody tr th:only-of-type {\n",
       "        vertical-align: middle;\n",
       "    }\n",
       "\n",
       "    .dataframe tbody tr th {\n",
       "        vertical-align: top;\n",
       "    }\n",
       "\n",
       "    .dataframe thead th {\n",
       "        text-align: right;\n",
       "    }\n",
       "</style>\n",
       "<table border=\"1\" class=\"dataframe\">\n",
       "  <thead>\n",
       "    <tr style=\"text-align: right;\">\n",
       "      <th></th>\n",
       "      <th>report_date</th>\n",
       "      <th>load_time</th>\n",
       "      <th>load_type</th>\n",
       "      <th>load_weight</th>\n",
       "      <th>dropoff_site</th>\n",
       "    </tr>\n",
       "  </thead>\n",
       "  <tbody>\n",
       "    <tr>\n",
       "      <th>740868</th>\n",
       "      <td>2016-05-26</td>\n",
       "      <td>2016-05-26 12:00:00 UTC</td>\n",
       "      <td>RECYCLING - SINGLE STREAM</td>\n",
       "      <td>16260.0</td>\n",
       "      <td>AUSTIN WOOD RECYCLING</td>\n",
       "    </tr>\n",
       "    <tr>\n",
       "      <th>740869</th>\n",
       "      <td>2021-02-03</td>\n",
       "      <td>2021-02-03 02:05:00 UTC</td>\n",
       "      <td>RECYCLING - SINGLE STREAM</td>\n",
       "      <td>2340.0</td>\n",
       "      <td>AUSTIN WOOD RECYCLING</td>\n",
       "    </tr>\n",
       "    <tr>\n",
       "      <th>740870</th>\n",
       "      <td>2019-05-08</td>\n",
       "      <td>2019-05-08 11:18:00 UTC</td>\n",
       "      <td>RECYCLING - SINGLE STREAM</td>\n",
       "      <td>9110.0</td>\n",
       "      <td>AUSTIN WOOD RECYCLING</td>\n",
       "    </tr>\n",
       "    <tr>\n",
       "      <th>740871</th>\n",
       "      <td>2017-11-08</td>\n",
       "      <td>2017-11-08 01:15:00 UTC</td>\n",
       "      <td>RECYCLING - SINGLE STREAM</td>\n",
       "      <td>15960.0</td>\n",
       "      <td>AUSTIN WOOD RECYCLING</td>\n",
       "    </tr>\n",
       "    <tr>\n",
       "      <th>740872</th>\n",
       "      <td>2018-11-21</td>\n",
       "      <td>2018-11-21 01:10:00 UTC</td>\n",
       "      <td>RECYCLING - SINGLE STREAM</td>\n",
       "      <td>7100.0</td>\n",
       "      <td>AUSTIN WOOD RECYCLING</td>\n",
       "    </tr>\n",
       "  </tbody>\n",
       "</table>\n",
       "</div>"
      ],
      "text/plain": [
       "       report_date                load_time                  load_type  \\\n",
       "740868  2016-05-26  2016-05-26 12:00:00 UTC  RECYCLING - SINGLE STREAM   \n",
       "740869  2021-02-03  2021-02-03 02:05:00 UTC  RECYCLING - SINGLE STREAM   \n",
       "740870  2019-05-08  2019-05-08 11:18:00 UTC  RECYCLING - SINGLE STREAM   \n",
       "740871  2017-11-08  2017-11-08 01:15:00 UTC  RECYCLING - SINGLE STREAM   \n",
       "740872  2018-11-21  2018-11-21 01:10:00 UTC  RECYCLING - SINGLE STREAM   \n",
       "\n",
       "        load_weight           dropoff_site  \n",
       "740868      16260.0  AUSTIN WOOD RECYCLING  \n",
       "740869       2340.0  AUSTIN WOOD RECYCLING  \n",
       "740870       9110.0  AUSTIN WOOD RECYCLING  \n",
       "740871      15960.0  AUSTIN WOOD RECYCLING  \n",
       "740872       7100.0  AUSTIN WOOD RECYCLING  "
      ]
     },
     "execution_count": 4,
     "metadata": {},
     "output_type": "execute_result"
    }
   ],
   "source": [
    "df.tail()"
   ]
  },
  {
   "cell_type": "markdown",
   "metadata": {},
   "source": [
    "## Data Cleaning"
   ]
  },
  {
   "cell_type": "markdown",
   "metadata": {},
   "source": [
    "## Data Exploration"
   ]
  },
  {
   "cell_type": "markdown",
   "metadata": {},
   "source": [
    "## Conclusions, Assumptions, Overall Analysis\n",
    "\n",
    "`put your conclusions here`"
   ]
  }
 ],
 "metadata": {
  "kernelspec": {
   "display_name": "Python 3.10.7 64-bit",
   "language": "python",
   "name": "python3"
  },
  "language_info": {
   "codemirror_mode": {
    "name": "ipython",
    "version": 3
   },
   "file_extension": ".py",
   "mimetype": "text/x-python",
   "name": "python",
   "nbconvert_exporter": "python",
   "pygments_lexer": "ipython3",
   "version": "3.10.7"
  },
  "orig_nbformat": 4,
  "vscode": {
   "interpreter": {
    "hash": "aee8b7b246df8f9039afb4144a1f6fd8d2ca17a180786b69acc140d282b71a49"
   }
  }
 },
 "nbformat": 4,
 "nbformat_minor": 2
}
